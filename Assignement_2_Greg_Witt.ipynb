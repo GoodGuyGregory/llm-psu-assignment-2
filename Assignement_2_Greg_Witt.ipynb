{
 "cells": [
  {
   "cell_type": "markdown",
   "id": "0b133c7d-94cd-4d88-ad3b-ec756ed6c369",
   "metadata": {},
   "source": [
    "# Assignment 2: Large Language Models for Text Classification"
   ]
  },
  {
   "cell_type": "markdown",
   "id": "8088e649-206e-4c4f-a802-ef860fc873f1",
   "metadata": {},
   "source": [
    "### CS 410/510 Large Language Models Fall 2024"
   ]
  },
  {
   "cell_type": "markdown",
   "id": "995529cd-a516-45b5-ab5c-a76d668871d8",
   "metadata": {},
   "source": [
    "#### Greg Witt"
   ]
  },
  {
   "cell_type": "markdown",
   "id": "d2b870bd-7be3-4447-b531-77dbaafec5f1",
   "metadata": {},
   "source": [
    "## Load Dataset"
   ]
  },
  {
   "cell_type": "markdown",
   "id": "b2eaa395-0356-4d84-bd75-7c632ede4141",
   "metadata": {},
   "source": [
    "**Install Dependencies**"
   ]
  },
  {
   "cell_type": "code",
   "execution_count": null,
   "id": "101775ae-ee6b-419e-ba63-291fe04b99c3",
   "metadata": {},
   "outputs": [],
   "source": [
    "!pip install datasets"
   ]
  },
  {
   "cell_type": "markdown",
   "id": "30dfd64a-475d-4daf-8546-7ebcd287e6e6",
   "metadata": {},
   "source": [
    "**Split DataSets**"
   ]
  },
  {
   "cell_type": "code",
   "execution_count": 1,
   "id": "6dc5a88f-c340-4bb8-a21c-d0c68f57ac8c",
   "metadata": {},
   "outputs": [
    {
     "name": "stdout",
     "output_type": "stream",
     "text": [
      "tweet_sentiment_multilingual training dataset: \n",
      "    -----------------------------------------\n",
      "        Dataset({\n",
      "    features: ['text', 'label'],\n",
      "    num_rows: 1839\n",
      "}) \n",
      "    \n",
      "\n",
      "    Random Tweet:\n",
      "    Friends and Seinfeld (I didn't get cable until 3rd grade so I watched the shows on satellite) \n",
      "\n",
      "    Label: \n",
      "    1\n",
      "\n"
     ]
    }
   ],
   "source": [
    "from datasets import load_dataset\n",
    "import random\n",
    "\n",
    "# load the training set of tweets\n",
    "ds_train = load_dataset(\"cardiffnlp/tweet_sentiment_multilingual\", \"english\", split=\"train\")\n",
    "# the dataset labels {0 : negative, 1: neutral, 2: positive }\n",
    "print(f\"\"\"tweet_sentiment_multilingual training dataset: \n",
    "    -----------------------------------------\n",
    "        {ds_train} \n",
    "    \"\"\")\n",
    "random_tweet_index = random.randint(0,1839)\n",
    "print(f\"\"\"\n",
    "    Random Tweet:\n",
    "    {ds_train['text'][random_tweet_index]}\n",
    "\n",
    "    Label: \n",
    "    {ds_train['label'][random_tweet_index] }\n",
    "\"\"\")\n"
   ]
  },
  {
   "cell_type": "code",
   "execution_count": 2,
   "id": "50bf010e",
   "metadata": {},
   "outputs": [
    {
     "name": "stdout",
     "output_type": "stream",
     "text": [
      "tweet_sentiment_multilingual validation set: \n",
      "    -----------------------------------------\n",
      "        Dataset({\n",
      "    features: ['text', 'label'],\n",
      "    num_rows: 324\n",
      "})\n",
      "    \n",
      "\n",
      "    Random Tweet:\n",
      "    I can\\u2019t believe the 3 important people in my life are going to Hawaii Friday without me \n",
      "\n",
      "    Label: \n",
      "    0\n",
      "\n"
     ]
    }
   ],
   "source": [
    "\n",
    "# load the training set of tweets\n",
    "ds_validation = load_dataset(\"cardiffnlp/tweet_sentiment_multilingual\", \"english\", split=\"validation\")\n",
    "# the dataset labels {0 : negative, 1: neutral, 2: positive }\n",
    "print(f\"\"\"tweet_sentiment_multilingual validation set: \n",
    "    -----------------------------------------\n",
    "        {ds_validation}\n",
    "    \"\"\")\n",
    "random_tweet_index = random.randint(0,324)\n",
    "print(f\"\"\"\n",
    "    Random Tweet:\n",
    "    {ds_validation['text'][random_tweet_index]}\n",
    "\n",
    "    Label: \n",
    "    {ds_validation['label'][random_tweet_index] }\n",
    "\"\"\")\n"
   ]
  },
  {
   "cell_type": "markdown",
   "id": "3310abc7",
   "metadata": {},
   "source": [
    "**Load Model Dependencies**"
   ]
  },
  {
   "cell_type": "code",
   "execution_count": null,
   "id": "69fc74e2",
   "metadata": {},
   "outputs": [],
   "source": [
    "!pip install transformers torch"
   ]
  },
  {
   "cell_type": "markdown",
   "id": "1518e687",
   "metadata": {},
   "source": [
    "## Experiments 1: Zero-Shot Inference "
   ]
  },
  {
   "cell_type": "markdown",
   "id": "9562780e-68e0-43ff-a06a-72ce676a2f30",
   "metadata": {},
   "source": [
    "### Create Prompt Iteration Function"
   ]
  },
  {
   "cell_type": "markdown",
   "id": "c85d7826-d069-4903-8b37-19a081a4d2a2",
   "metadata": {},
   "source": [
    "### Approach 1: Parse Single Token Response"
   ]
  },
  {
   "cell_type": "markdown",
   "id": "bbccdd1e-433d-4e28-8d14-a9fc92a15ff3",
   "metadata": {},
   "source": [
    "This approach prompts the model in question for a sentiment classification of a tweet, the **[AutoModelForCausalLM's](https://huggingface.co/docs/transformers/v4.46.0/en/main_classes/text_generation#transformers.GenerationMixin.generate)** `mode.generate()` call is invoked in order to ellicit a response to our provided prompt. the `generate()` method can be provided with several parameters. this approach modifies the **[GenerationConfiguration](https://huggingface.co/docs/transformers/v4.46.0/en/main_classes/text_generation#transformers.GenerationConfig)** allowing for certain constraints. for this approach we ensure that the `max_new_tokens=1` and `pad_token_id` is set to ensure there is only one token generated from the model. This token is then used to represent our model's response to the sentiment prompt. \n",
    "\n",
    "This approach can work but there are risks associated with this method, because these models haven't gone through any **fine-tuning**. Meaning their lack of training hasn't prepared them to for **sentiment classification**, meaning instead of receiving a \"0\" for neutral, \"1\" for negative, or \"2\" for positive there could be other undesirable tokens coming back. To handle this I created a `santize_response()` method that will take the generated tokens and determine if the response can be related to a sentiment classification."
   ]
  },
  {
   "cell_type": "code",
   "execution_count": 3,
   "id": "c8d3bc8e-5452-48a5-a7d6-d9c7a8e4d32d",
   "metadata": {},
   "outputs": [],
   "source": [
    "import re\n",
    "\n",
    "def santize_response(response_token):\n",
    "    if re.search(r'\\d', response_token):\n",
    "        return int(response_token)\n",
    "    else:\n",
    "        return 0\n"
   ]
  },
  {
   "cell_type": "markdown",
   "id": "e50d681b",
   "metadata": {},
   "source": [
    "### Llama 3.2 1B: Zero Shot Inference"
   ]
  },
  {
   "cell_type": "code",
   "execution_count": 4,
   "id": "c0c87e2a",
   "metadata": {},
   "outputs": [],
   "source": [
    "\n",
    "from transformers import AutoModelForCausalLM, AutoTokenizer\n",
    "import torch\n",
    "\n",
    "llama_3_2_1B = \"meta-llama/Llama-3.2-1B\"\n",
    "\n",
    "llama_3_2_1B_tokenizer = AutoTokenizer.from_pretrained(llama_3_2_1B)\n",
    "\n",
    "llama_3_2_1B_model = AutoModelForCausalLM.from_pretrained(llama_3_2_1B)\n",
    "\n"
   ]
  },
  {
   "cell_type": "code",
   "execution_count": 7,
   "id": "973c79d6",
   "metadata": {},
   "outputs": [],
   "source": [
    "prompt_template = \"\\\"{}\\\" \\n Sentiment (positive (2), negative (0), neutral (1)): \""
   ]
  },
  {
   "cell_type": "code",
   "execution_count": 102,
   "id": "61a057d6",
   "metadata": {},
   "outputs": [],
   "source": [
    "import numpy as np\n",
    "\n",
    "# hold the ground_truths\n",
    "llama_3_2_1B_ground_truths = []\n",
    "# hold the sentiment_predictions\n",
    "llama_3_2_1B_sentiment_preds = []\n",
    "\n",
    "# iterate through the validation set\n",
    "for tweet, label in zip(ds_validation['text'], ds_validation['label']):\n",
    "    prompt_tweet = tweet\n",
    "    gt_label = label\n",
    "    # combine the prompt\n",
    "    prompt = prompt_template.format(prompt_tweet)\n",
    "    \n",
    "    # generate the response\n",
    "    prompt_ids = llama_3_2_1B_tokenizer.encode(prompt, return_tensors=\"pt\")\n",
    "\n",
    "    outputs = llama_3_2_1B_model.generate(\n",
    "                        prompt_ids,\n",
    "                        temperature=0.86,\n",
    "                        do_sample=True,\n",
    "                        pad_token_id=llama_3_2_1B_tokenizer.eos_token_id,\n",
    "                        max_new_tokens=1\n",
    "                    )\n",
    "    \n",
    "    # get the response tokens from the model\n",
    "    generated_tokens = outputs[-1]\n",
    "    \n",
    "    generated_response = llama_3_2_1B_tokenizer.decode(generated_tokens, skip_special_tokens=True)\n",
    "\n",
    "    # pass the generated_response to a sanitizer that determines if the response is valid\n",
    "    sentiment_resp = santize_response(generated_response[-1])\n",
    "    \n",
    "    # Responses being compared to the Ground_Truth Labels\n",
    "    # print(f\"Generated Response: {sentiment_resp}\")\n",
    "    # print(f\"Ground Truth: {gt_label}\")\n",
    "\n",
    "    llama_3_2_1B_ground_truths.append(gt_label)\n",
    "    llama_3_2_1B_sentiment_preds.append(sentiment_resp)\n",
    "\n",
    "llama_3_2_1B_ground_truths = np.asarray(llama_3_2_1B_ground_truths)\n",
    "llama_3_2_1B_sentiment_preds = np.asarray(llama_3_2_1B_sentiment_preds)"
   ]
  },
  {
   "cell_type": "markdown",
   "id": "cdeaff9e",
   "metadata": {},
   "source": [
    "### Build Classification Report "
   ]
  },
  {
   "cell_type": "markdown",
   "id": "9ddda6d9",
   "metadata": {},
   "source": [
    "**Import Python Libraries**"
   ]
  },
  {
   "cell_type": "code",
   "execution_count": 152,
   "id": "63c1609a",
   "metadata": {},
   "outputs": [
    {
     "name": "stderr",
     "output_type": "stream",
     "text": [
      "huggingface/tokenizers: The current process just got forked, after parallelism has already been used. Disabling parallelism to avoid deadlocks...\n",
      "To disable this warning, you can either:\n",
      "\t- Avoid using `tokenizers` before the fork if possible\n",
      "\t- Explicitly set the environment variable TOKENIZERS_PARALLELISM=(true | false)\n"
     ]
    },
    {
     "name": "stdout",
     "output_type": "stream",
     "text": [
      "Requirement already satisfied: scikit-learn in ./.venv/lib/python3.12/site-packages (1.5.2)\n",
      "Requirement already satisfied: matplotlib in ./.venv/lib/python3.12/site-packages (3.9.2)\n",
      "Collecting seaborn\n",
      "  Using cached seaborn-0.13.2-py3-none-any.whl.metadata (5.4 kB)\n",
      "Requirement already satisfied: numpy>=1.19.5 in ./.venv/lib/python3.12/site-packages (from scikit-learn) (2.1.2)\n",
      "Requirement already satisfied: scipy>=1.6.0 in ./.venv/lib/python3.12/site-packages (from scikit-learn) (1.14.1)\n",
      "Requirement already satisfied: joblib>=1.2.0 in ./.venv/lib/python3.12/site-packages (from scikit-learn) (1.4.2)\n",
      "Requirement already satisfied: threadpoolctl>=3.1.0 in ./.venv/lib/python3.12/site-packages (from scikit-learn) (3.5.0)\n",
      "Requirement already satisfied: contourpy>=1.0.1 in ./.venv/lib/python3.12/site-packages (from matplotlib) (1.3.0)\n",
      "Requirement already satisfied: cycler>=0.10 in ./.venv/lib/python3.12/site-packages (from matplotlib) (0.12.1)\n",
      "Requirement already satisfied: fonttools>=4.22.0 in ./.venv/lib/python3.12/site-packages (from matplotlib) (4.54.1)\n",
      "Requirement already satisfied: kiwisolver>=1.3.1 in ./.venv/lib/python3.12/site-packages (from matplotlib) (1.4.7)\n",
      "Requirement already satisfied: packaging>=20.0 in ./.venv/lib/python3.12/site-packages (from matplotlib) (24.1)\n",
      "Requirement already satisfied: pillow>=8 in ./.venv/lib/python3.12/site-packages (from matplotlib) (11.0.0)\n",
      "Requirement already satisfied: pyparsing>=2.3.1 in ./.venv/lib/python3.12/site-packages (from matplotlib) (3.2.0)\n",
      "Requirement already satisfied: python-dateutil>=2.7 in ./.venv/lib/python3.12/site-packages (from matplotlib) (2.9.0.post0)\n",
      "Requirement already satisfied: pandas>=1.2 in ./.venv/lib/python3.12/site-packages (from seaborn) (2.2.3)\n",
      "Requirement already satisfied: pytz>=2020.1 in ./.venv/lib/python3.12/site-packages (from pandas>=1.2->seaborn) (2024.2)\n",
      "Requirement already satisfied: tzdata>=2022.7 in ./.venv/lib/python3.12/site-packages (from pandas>=1.2->seaborn) (2024.2)\n",
      "Requirement already satisfied: six>=1.5 in ./.venv/lib/python3.12/site-packages (from python-dateutil>=2.7->matplotlib) (1.16.0)\n",
      "Using cached seaborn-0.13.2-py3-none-any.whl (294 kB)\n",
      "Installing collected packages: seaborn\n",
      "Successfully installed seaborn-0.13.2\n",
      "\n",
      "\u001b[1m[\u001b[0m\u001b[34;49mnotice\u001b[0m\u001b[1;39;49m]\u001b[0m\u001b[39;49m A new release of pip is available: \u001b[0m\u001b[31;49m24.0\u001b[0m\u001b[39;49m -> \u001b[0m\u001b[32;49m24.3.1\u001b[0m\n",
      "\u001b[1m[\u001b[0m\u001b[34;49mnotice\u001b[0m\u001b[1;39;49m]\u001b[0m\u001b[39;49m To update, run: \u001b[0m\u001b[32;49mpip install --upgrade pip\u001b[0m\n",
      "Note: you may need to restart the kernel to use updated packages.\n"
     ]
    }
   ],
   "source": [
    "pip install scikit-learn matplotlib seaborn"
   ]
  },
  {
   "cell_type": "code",
   "execution_count": 103,
   "id": "896b68f3",
   "metadata": {},
   "outputs": [
    {
     "name": "stdout",
     "output_type": "stream",
     "text": [
      "              precision    recall  f1-score   support\n",
      "\n",
      "           0       0.31      0.50      0.38       108\n",
      "           1       0.34      0.25      0.29       108\n",
      "           2       0.39      0.26      0.31       108\n",
      "\n",
      "    accuracy                           0.34       324\n",
      "   macro avg       0.35      0.34      0.33       324\n",
      "weighted avg       0.35      0.34      0.33       324\n",
      "\n"
     ]
    }
   ],
   "source": [
    "from sklearn.metrics import classification_report\n",
    "\n",
    "zero_shot_llama_3_2_1B_model_results = classification_report(llama_3_2_1B_ground_truths, \n",
    "                                                             llama_3_2_1B_sentiment_preds, \n",
    "                                                             output_dict=True)\n",
    "\n",
    "print(classification_report(llama_3_2_1B_ground_truths, llama_3_2_1B_sentiment_preds))"
   ]
  },
  {
   "cell_type": "markdown",
   "id": "1b40b3d6",
   "metadata": {},
   "source": [
    "### Build Confusion Matrix"
   ]
  },
  {
   "cell_type": "code",
   "execution_count": 93,
   "id": "df3f3c11",
   "metadata": {},
   "outputs": [
    {
     "data": {
      "image/png": "[encoded data removed]",
      "text/plain": [
       "<Figure size 640x480 with 2 Axes>"
      ]
     },
     "metadata": {},
     "output_type": "display_data"
    }
   ],
   "source": [
    "import matplotlib.pyplot as plt\n",
    "from sklearn.metrics import confusion_matrix, ConfusionMatrixDisplay\n",
    "\n",
    "\n",
    "cm = confusion_matrix(llama_3_2_1B_ground_truths, llama_3_2_1B_sentiment_preds)\n",
    "\n",
    "disp = ConfusionMatrixDisplay(confusion_matrix=cm)\n",
    "\n",
    "disp.plot()\n",
    "plt.show()"
   ]
  },
  {
   "cell_type": "markdown",
   "id": "a06fc6a8-3331-463b-a383-4c70a59d3b19",
   "metadata": {},
   "source": [
    "## Llama 3.2 3B: Zero Shot Inference"
   ]
  },
  {
   "cell_type": "code",
   "execution_count": 37,
   "id": "f39dbcd2-7998-4393-9cb2-ed09509e6714",
   "metadata": {},
   "outputs": [
    {
     "data": {
      "application/vnd.jupyter.widget-view+json": {
       "model_id": "d9bee82743424f45be21be27cde95620",
       "version_major": 2,
       "version_minor": 0
      },
      "text/plain": [
       "Loading checkpoint shards:   0%|          | 0/2 [00:00<?, ?it/s]"
      ]
     },
     "metadata": {},
     "output_type": "display_data"
    }
   ],
   "source": [
    "from transformers import AutoModelForCausalLM, AutoTokenizer\n",
    "import torch\n",
    "\n",
    "llama_3_2_3B = \"meta-llama/Llama-3.2-3B\"\n",
    "\n",
    "llama_3_2_3B_tokenizer = AutoTokenizer.from_pretrained(llama_3_2_3B)\n",
    "\n",
    "llama_3_2_3B_model = AutoModelForCausalLM.from_pretrained(llama_3_2_3B)\n"
   ]
  },
  {
   "cell_type": "code",
   "execution_count": 12,
   "id": "65f9fb6e-3f6d-4b46-937c-5351ff6a2d37",
   "metadata": {},
   "outputs": [],
   "source": [
    "prompt_template = \"\\\"{}\\\" \\n Sentiment (positive (2), negative (0), neutral (1)): \""
   ]
  },
  {
   "cell_type": "code",
   "execution_count": 52,
   "id": "b7c4feae-0df2-45de-bd5c-3ab8085e7341",
   "metadata": {},
   "outputs": [],
   "source": [
    "import re\n",
    "\n",
    "def santize_response(response_token):\n",
    "    if re.search(r'\\d', response_token):\n",
    "       if int(response_token) > 2: \n",
    "           return 0\n",
    "       else: \n",
    "           return int(response_token)\n",
    "        \n",
    "    else:\n",
    "        return 0\n"
   ]
  },
  {
   "cell_type": "code",
   "execution_count": 107,
   "id": "1977f7aa-faff-4608-8f6d-1ec0856a0937",
   "metadata": {},
   "outputs": [],
   "source": [
    "import numpy as np\n",
    "\n",
    "# hold the ground_truths\n",
    "llama_3_2_3B_ground_truths = []\n",
    "# hold the sentiment_predictions\n",
    "llama_3_2_3B_sentiment_preds = []\n",
    "\n",
    "# iterate through the validation set\n",
    "for tweet, label in zip(ds_validation['text'], ds_validation['label']):\n",
    "    prompt_tweet = tweet\n",
    "    gt_label = label\n",
    "    # combine the prompt\n",
    "    prompt = prompt_template.format(prompt_tweet)\n",
    "    \n",
    "    # generate the response\n",
    "    prompt_ids = llama_3_2_3B_tokenizer.encode(prompt, return_tensors=\"pt\")\n",
    "\n",
    "    outputs = llama_3_2_3B_model.generate(\n",
    "                        prompt_ids,\n",
    "                        do_sample=True,\n",
    "                        temperature=0.65,\n",
    "                        pad_token_id=llama_3_2_3B_tokenizer.eos_token_id,\n",
    "                        max_new_tokens=1\n",
    "                    )\n",
    "    \n",
    "    # get the response tokens from the model\n",
    "    generated_tokens = outputs[-1]\n",
    "    \n",
    "    generated_response = llama_3_2_1B_tokenizer.decode(generated_tokens, skip_special_tokens=True)\n",
    "\n",
    "    # pass the generated_response to a sanitizer that determines if the response is valid\n",
    "    sentiment_resp = santize_response(generated_response[-1])\n",
    "    \n",
    "    # Responses being compared to the Ground_Truth Labels\n",
    "    # print(f\"Generated Response: {sentiment_resp}\")\n",
    "    # print(f\"Ground Truth: {gt_label}\")\n",
    "\n",
    "    llama_3_2_3B_ground_truths.append(gt_label)\n",
    "    llama_3_2_3B_sentiment_preds.append(sentiment_resp)\n",
    "\n",
    "llama_3_2_3B_ground_truths = np.asarray(llama_3_2_3B_ground_truths)\n",
    "llama_3_2_3B_sentiment_preds = np.asarray(llama_3_2_3B_sentiment_preds)\n"
   ]
  },
  {
   "cell_type": "code",
   "execution_count": 108,
   "id": "c164d8f0-4c9d-4756-9232-bacfbbcf3170",
   "metadata": {},
   "outputs": [
    {
     "name": "stdout",
     "output_type": "stream",
     "text": [
      "              precision    recall  f1-score   support\n",
      "\n",
      "           0       0.33      0.60      0.42       108\n",
      "           1       0.28      0.05      0.08       108\n",
      "           2       0.34      0.33      0.33       108\n",
      "\n",
      "    accuracy                           0.33       324\n",
      "   macro avg       0.31      0.33      0.28       324\n",
      "weighted avg       0.31      0.33      0.28       324\n",
      "\n"
     ]
    }
   ],
   "source": [
    "from sklearn.metrics import classification_report\n",
    "\n",
    "zero_shot_llama_3_2_3B_results = classification_report(llama_3_2_3B_ground_truths, llama_3_2_3B_sentiment_preds, output_dict=True)\n",
    "\n",
    "print(classification_report(llama_3_2_3B_ground_truths, llama_3_2_3B_sentiment_preds))"
   ]
  },
  {
   "cell_type": "code",
   "execution_count": 109,
   "id": "6bc06578-8fe1-4d24-a4c4-fd3bc0c3f31c",
   "metadata": {},
   "outputs": [
    {
     "data": {
      "image/png": "[encoded data removed]",
      "text/plain": [
       "<Figure size 640x480 with 2 Axes>"
      ]
     },
     "metadata": {},
     "output_type": "display_data"
    }
   ],
   "source": [
    "import matplotlib.pyplot as plt\n",
    "from sklearn.metrics import confusion_matrix, ConfusionMatrixDisplay\n",
    "\n",
    "\n",
    "cm = confusion_matrix(llama_3_2_3B_ground_truths, llama_3_2_3B_sentiment_preds)\n",
    "\n",
    "disp = ConfusionMatrixDisplay(confusion_matrix=cm)\n",
    "\n",
    "disp.plot()\n",
    "plt.show()"
   ]
  },
  {
   "cell_type": "markdown",
   "id": "a7aa0eaa-8f8c-44cf-8a6d-43cd28ca809e",
   "metadata": {},
   "source": [
    "## Phi-3.5-mini-instruct: Zero Shot Inference"
   ]
  },
  {
   "cell_type": "markdown",
   "id": "1eccdae2",
   "metadata": {},
   "source": [
    "#### [Phi 3.5 Instruct]()"
   ]
  },
  {
   "cell_type": "code",
   "execution_count": 56,
   "id": "ff264a6a",
   "metadata": {},
   "outputs": [
    {
     "data": {
      "application/vnd.jupyter.widget-view+json": {
       "model_id": "e7b1e2591d144be5a97748d06a46453b",
       "version_major": 2,
       "version_minor": 0
      },
      "text/plain": [
       "Loading checkpoint shards:   0%|          | 0/2 [00:00<?, ?it/s]"
      ]
     },
     "metadata": {},
     "output_type": "display_data"
    }
   ],
   "source": [
    "from transformers import AutoModelForCausalLM, AutoTokenizer\n",
    "import torch\n",
    "\n",
    "# model name\n",
    "phi_model = \"microsoft/Phi-3.5-mini-instruct\"\n",
    "\n",
    "phi_3_5_tokenizer = AutoTokenizer.from_pretrained(phi_model)\n",
    "\n",
    "phi_3_5_model = AutoModelForCausalLM.from_pretrained(phi_model)"
   ]
  },
  {
   "cell_type": "code",
   "execution_count": 28,
   "id": "bc9cf4e2-a6f0-4aeb-baa4-c543724a7301",
   "metadata": {},
   "outputs": [],
   "source": [
    "prompt_template = \"\\\"{}\\\" \\n Sentiment (positive (2), negative (0), neutral (1)): \""
   ]
  },
  {
   "cell_type": "code",
   "execution_count": 57,
   "id": "40b9461b-f53f-4069-b24a-bc00ab7d30a4",
   "metadata": {},
   "outputs": [],
   "source": [
    "import re\n",
    "\n",
    "def santize_response(response_token):\n",
    "    if re.search(r'\\d', response_token):\n",
    "       if int(response_token) > 2: \n",
    "           return 0\n",
    "       else: \n",
    "           return int(response_token)\n",
    "        \n",
    "    else:\n",
    "        return 0\n"
   ]
  },
  {
   "cell_type": "code",
   "execution_count": 110,
   "id": "ea4eebf1-f6dd-4eaf-969f-40bd53b26883",
   "metadata": {},
   "outputs": [],
   "source": [
    "import numpy as np\n",
    "\n",
    "# hold the ground_truths\n",
    "phi_3_5_ground_truths = []\n",
    "# hold the sentiment_predictions\n",
    "phi_3_5_sentiment_preds = []\n",
    "\n",
    "# iterate through the validation set\n",
    "for tweet, label in zip(ds_validation['text'], ds_validation['label']):\n",
    "    prompt_tweet = tweet\n",
    "    gt_label = label\n",
    "    # combine the prompt\n",
    "    prompt = prompt_template.format(prompt_tweet)\n",
    "    \n",
    "    # generate the response\n",
    "    prompt_ids = phi_3_5_tokenizer.encode(prompt, return_tensors=\"pt\")\n",
    "\n",
    "    outputs = phi_3_5_model.generate(\n",
    "                        prompt_ids,\n",
    "                        temperature=0.23,\n",
    "                        do_sample=True,\n",
    "                        pad_token_id=phi_3_5_tokenizer.eos_token_id,\n",
    "                        max_new_tokens=1\n",
    "                    )\n",
    "    \n",
    "    # get the response tokens from the model\n",
    "    generated_tokens = outputs[-1]\n",
    "    \n",
    "    generated_response = phi_3_5_tokenizer.decode(generated_tokens, skip_special_tokens=True)\n",
    "\n",
    "    # pass the generated_response to a sanitizer that determines if the response is valid\n",
    "    sentiment_resp = santize_response(generated_response[-1])\n",
    "    \n",
    "    # Responses being compared to the Ground_Truth Labels\n",
    "    # print(f\"Generated Response: {sentiment_resp}\")\n",
    "    # print(f\"Ground Truth: {gt_label}\")\n",
    "\n",
    "    phi_3_5_ground_truths.append(gt_label)\n",
    "    phi_3_5_sentiment_preds.append(sentiment_resp)\n",
    "\n",
    "phi_3_5_ground_truths = np.asarray(phi_3_5_ground_truths)\n",
    "phi_3_5_sentiment_preds = np.asarray(phi_3_5_sentiment_preds)\n"
   ]
  },
  {
   "cell_type": "code",
   "execution_count": 113,
   "id": "eedcb88c-dec1-4189-ad1c-c17a68d025f5",
   "metadata": {},
   "outputs": [
    {
     "name": "stdout",
     "output_type": "stream",
     "text": [
      "              precision    recall  f1-score   support\n",
      "\n",
      "           0       0.46      0.76      0.57       108\n",
      "           1       0.83      0.05      0.09       108\n",
      "           2       0.50      0.65      0.56       108\n",
      "\n",
      "    accuracy                           0.48       324\n",
      "   macro avg       0.60      0.48      0.41       324\n",
      "weighted avg       0.60      0.48      0.41       324\n",
      "\n"
     ]
    }
   ],
   "source": [
    "from sklearn.metrics import classification_report\n",
    "\n",
    "zero_shot_phi_3_5_results = classification_report(phi_3_5_ground_truths, phi_3_5_sentiment_preds, output_dict=True)\n",
    "\n",
    "print(classification_report(phi_3_5_ground_truths, phi_3_5_sentiment_preds))"
   ]
  },
  {
   "cell_type": "code",
   "execution_count": 84,
   "id": "ce93be74-2983-49d8-b585-425bad31934c",
   "metadata": {},
   "outputs": [
    {
     "data": {
      "image/png": "[encoded data removed]",
      "text/plain": [
       "<Figure size 640x480 with 2 Axes>"
      ]
     },
     "metadata": {},
     "output_type": "display_data"
    }
   ],
   "source": [
    "import matplotlib.pyplot as plt\n",
    "from sklearn.metrics import confusion_matrix, ConfusionMatrixDisplay\n",
    "\n",
    "\n",
    "cm = confusion_matrix(phi_3_5_ground_truths, phi_3_5_sentiment_preds)\n",
    "\n",
    "disp = ConfusionMatrixDisplay(confusion_matrix=cm)\n",
    "\n",
    "disp.plot()\n",
    "plt.show()"
   ]
  },
  {
   "cell_type": "markdown",
   "id": "45158d0c-898f-426c-a153-661862edfd33",
   "metadata": {},
   "source": [
    "## Experiment 1: Zero-Shot Results"
   ]
  },
  {
   "cell_type": "markdown",
   "id": "da36ac4f-2b40-4bbe-9ab8-54cb7255bf98",
   "metadata": {},
   "source": [
    "### Zero-Shot Model Recall Scores"
   ]
  },
  {
   "cell_type": "code",
   "execution_count": 182,
   "id": "fe9049b1-d382-4f76-9dbb-d2635581dd42",
   "metadata": {},
   "outputs": [
    {
     "data": {
      "text/plain": [
       "Text(0.5, 1.0, 'Zero Shot Model Recall Scores')"
      ]
     },
     "execution_count": 182,
     "metadata": {},
     "output_type": "execute_result"
    },
    {
     "data": {
      "image/png": "[encoded data removed]",
      "text/plain": [
       "<Figure size 600x600 with 1 Axes>"
      ]
     },
     "metadata": {},
     "output_type": "display_data"
    }
   ],
   "source": [
    "import numpy as np  \n",
    "import matplotlib.pyplot as plt \n",
    "import seaborn as sns\n",
    "\n",
    "sns.color_palette(\"Set2\")\n",
    "  \n",
    "models = ['Llama 3.2 1B','Llama 3.2 3B','Phi-3.5-Mini'] \n",
    "\n",
    "llama_32_1b = round(zero_shot_llama_3_2_1B_model_results['macro avg']['recall'], 2)\n",
    "\n",
    "llama_32_3b = round(zero_shot_llama_3_2_3B_results['macro avg']['recall'], 2)\n",
    "\n",
    "phi_35_mini = round(zero_shot_phi_3_5_results['macro avg']['recall'], 2)\n",
    "\n",
    "precision_scores = [llama_32_1b, llama_32_3b, phi_35_mini]\n",
    "\n",
    "plt.figure(figsize=(6,6), dpi=100)\n",
    "plt.yticks()\n",
    "sns.barplot(x=models, y=precision_scores, hue=models, legend=\"auto\", )\n",
    "plt.title('Zero Shot Model Recall Scores')"
   ]
  },
  {
   "cell_type": "markdown",
   "id": "cbf35119-e7ac-4a0e-bf1e-3c2aa4e3b9d8",
   "metadata": {},
   "source": [
    "### Zero-Shot Models F1-Scores"
   ]
  },
  {
   "cell_type": "code",
   "execution_count": 183,
   "id": "3a332414-f302-452b-8e71-f800551f6099",
   "metadata": {},
   "outputs": [
    {
     "data": {
      "text/plain": [
       "Text(0.5, 1.0, 'Zero Shot Model F-1 Scores')"
      ]
     },
     "execution_count": 183,
     "metadata": {},
     "output_type": "execute_result"
    },
    {
     "data": {
      "image/png": "[encoded data removed]",
      "text/plain": [
       "<Figure size 600x600 with 1 Axes>"
      ]
     },
     "metadata": {},
     "output_type": "display_data"
    }
   ],
   "source": [
    "import numpy as np  \n",
    "import matplotlib.pyplot as plt \n",
    "import seaborn as sns\n",
    "\n",
    "sns.color_palette(\"Set2\")\n",
    "  \n",
    "models = ['Llama 3.2 1B','Llama 3.2 3B','Phi-3.5-Mini'] \n",
    "\n",
    "llama_32_1b = round(zero_shot_llama_3_2_1B_model_results['macro avg']['f1-score'], 2)\n",
    "\n",
    "llama_32_3b = round(zero_shot_llama_3_2_3B_results['macro avg']['f1-score'], 2)\n",
    "\n",
    "phi_35_mini = round(zero_shot_phi_3_5_results['macro avg']['f1-score'], 2)\n",
    "\n",
    "precision_scores = [llama_32_1b, llama_32_3b, phi_35_mini]\n",
    "\n",
    "plt.figure(figsize=(6,6), dpi=100)\n",
    "plt.yticks()\n",
    "sns.barplot(x=models, y=precision_scores, hue=models, legend=\"auto\", )\n",
    "plt.title('Zero Shot Model F-1 Scores')"
   ]
  },
  {
   "cell_type": "markdown",
   "id": "9c41ec4f-8ed4-4c21-a586-6e5e06b302ad",
   "metadata": {},
   "source": [
    "### Zero-Shot Model Percisions"
   ]
  },
  {
   "cell_type": "code",
   "execution_count": 170,
   "id": "3f0514e3-597b-4182-8dce-c12d3013299a",
   "metadata": {},
   "outputs": [
    {
     "data": {
      "text/plain": [
       "Text(0.5, 1.0, 'Zero Shot Model Precision Scores')"
      ]
     },
     "execution_count": 170,
     "metadata": {},
     "output_type": "execute_result"
    },
    {
     "data": {
      "image/png": "[encoded data removed]",
      "text/plain": [
       "<Figure size 600x600 with 1 Axes>"
      ]
     },
     "metadata": {},
     "output_type": "display_data"
    }
   ],
   "source": [
    "import numpy as np  \n",
    "import matplotlib.pyplot as plt \n",
    "import seaborn as sns\n",
    "\n",
    "sns.color_palette(\"Set2\")\n",
    "  \n",
    "models = ['Llama 3.2 1B','Llama 3.2 3B','Phi-3.5-Mini'] \n",
    "\n",
    "llama_32_1b = round(zero_shot_llama_3_2_1B_model_results['macro avg']['precision'], 2)\n",
    "\n",
    "llama_32_3b = round(zero_shot_llama_3_2_3B_results['macro avg']['precision'], 2)\n",
    "\n",
    "phi_35_mini = round(zero_shot_phi_3_5_results['macro avg']['precision'], 2)\n",
    "\n",
    "precision_scores = [llama_32_1b, llama_32_3b, phi_35_mini]\n",
    "\n",
    "plt.figure(figsize=(6,6), dpi=100)\n",
    "sns.barplot(x=models, y=precision_scores, hue=models, legend=\"auto\", )\n",
    "plt.title('Zero Shot Model Precision Scores')"
   ]
  },
  {
   "cell_type": "markdown",
   "id": "1d162423-b1ec-4295-a030-e83e42254351",
   "metadata": {},
   "source": [
    "## Experiment 2: Few-show in-context learnining"
   ]
  },
  {
   "cell_type": "markdown",
   "id": "9c9a503a-dd7b-4203-a676-6e91fa43fd1e",
   "metadata": {},
   "source": [
    "### Llama 3.2 1B: Few-Shot In-Context Learning"
   ]
  },
  {
   "cell_type": "markdown",
   "id": "b2395fe8-ed62-43d6-9de7-8e2407a49b3a",
   "metadata": {},
   "source": [
    "**Generate a Prompt**"
   ]
  },
  {
   "cell_type": "code",
   "execution_count": 184,
   "id": "e00a8f7b-e22d-479a-adcb-5b2138f3699f",
   "metadata": {},
   "outputs": [
    {
     "name": "stdout",
     "output_type": "stream",
     "text": [
      "Number of negative tweets: 613\n",
      "Number of neutral tweets: 613\n",
      "Number of positive tweets: 613\n",
      "\n",
      "Random Negative Tweet: \"I'm sorry, but Randy Orton is the most plain wrestler on the roster. He does nothing for me in the main event spot. 2nd is Sheamus.\" \n",
      "Random Neutral Tweet: @user @user If it weren't for Blair there would have been no Good Friday Agreement, and the IRA would have won!\" \n",
      "Random Positive Tweet: Last night may have been my last Digi concert for a while. But I had an amazing night. Thank you for everything Digi. @user \n"
     ]
    }
   ],
   "source": [
    "import random \n",
    "\n",
    "# sets a for consistent repeatability amongst the tests\n",
    "random.seed(23)\n",
    "\n",
    "# filter the data for each type of tweet. \n",
    "# filter is specific to hugging face datasets \n",
    "# it will take a lambda that will return a boolean value to filter elements on\n",
    "\n",
    "negative_tweets = ds_train.filter(lambda x: x['label'] == 0)\n",
    "neutral_tweets = ds_train.filter(lambda x: x['label'] == 1)\n",
    "positive_tweets = ds_train.filter(lambda x: x['label'] == 2)\n",
    "\n",
    "# Optional: Preview the sizes\n",
    "print(f\"Number of negative tweets: {len(negative_tweets)}\")\n",
    "print(f\"Number of neutral tweets: {len(neutral_tweets)}\")\n",
    "print(f\"Number of positive tweets: {len(positive_tweets)}\")\n",
    "\n",
    "print()\n",
    "random_num = random.randint(0,613)\n",
    "\n",
    "print(f\"Random Negative Tweet: {negative_tweets['text'][random_num]}\")\n",
    "\n",
    "print(f\"Random Neutral Tweet: {neutral_tweets['text'][random_num]}\")\n",
    "\n",
    "print(f\"Random Positive Tweet: {positive_tweets['text'][random_num]}\")\n"
   ]
  },
  {
   "cell_type": "code",
   "execution_count": 187,
   "id": "1a7d99e0",
   "metadata": {},
   "outputs": [],
   "source": [
    "def generate_few_shot_prompt(validation_tweet):\n",
    "    \n",
    "    # Format the few-shot prompt with placeholders\n",
    "    few_shot_prompt = \"\"\"\n",
    "    {} \n",
    "        \n",
    "    Sentiment (positive (2), negative (0), neutral (1)): {} \n",
    "        \n",
    "    {} \n",
    "        \n",
    "    Sentiment (positive (2), negative (0), neutral (1)): {} \n",
    "        \n",
    "    {} \n",
    "        \n",
    "    Sentiment (positive (2), negative (0), neutral (1)): {} \n",
    "        \n",
    "    {} \n",
    "        \n",
    "    Sentiment (positive (2), negative (0), neutral (1)): {} \n",
    "        \n",
    "    {} \n",
    "        \n",
    "    Sentiment (positive (2), negative (0), neutral (1)): {} \n",
    "        \n",
    "    {} \n",
    "        \n",
    "    Sentiment (positive (2), negative (0), neutral (1)): {}  \n",
    "    \"\"\"\n",
    "\n",
    "    # Flatten the list of text-label pairs for easy insertion\n",
    "    tweet_texts_and_labels = []\n",
    "\n",
    "    for tweet in range(2):\n",
    "        random_num = random.randint(0,612)\n",
    "        tweet_texts_and_labels.extend([positive_tweets['text'][random_num], positive_tweets['label'][random_num]])\n",
    "        random_num = random.randint(0,612)\n",
    "        tweet_texts_and_labels.extend([negative_tweets['text'][random_num], negative_tweets['label'][random_num]])\n",
    "        random_num = random.randint(0,612)\n",
    "        tweet_texts_and_labels.extend([neutral_tweets['text'][random_num], neutral_tweets['label'][random_num]])\n",
    "\n",
    "\n",
    "    # print(tweet_texts_and_labels)\n",
    "\n",
    "    # Use the format method to fill in the placeholders\n",
    "    filled_prompt = few_shot_prompt.format(*tweet_texts_and_labels)\n",
    "\n",
    "    filled_prompt += f\"\"\" \n",
    "    {validation_tweet}\n",
    "\n",
    "    Sentiment (positive (2), negative (0), netural (1)): \"\"\"\n",
    "\n",
    "    return filled_prompt"
   ]
  },
  {
   "cell_type": "code",
   "execution_count": 200,
   "id": "84f20ac3",
   "metadata": {},
   "outputs": [],
   "source": [
    "import numpy as np\n",
    "\n",
    "# hold the ground_truths\n",
    "llama_3_2_1B_ground_truths = []\n",
    "# hold the sentiment_predictions\n",
    "llama_3_2_1B_sentiment_preds = []\n",
    "\n",
    "# iterate through the validation set\n",
    "for tweet, label in zip(ds_validation['text'], ds_validation['label']):\n",
    "    prompt_tweet = tweet\n",
    "    gt_label = label\n",
    "    # combine the prompt\n",
    "    prompt = generate_few_shot_prompt(prompt_tweet)\n",
    "    \n",
    "    # generate the response\n",
    "    prompt_ids = llama_3_2_1B_tokenizer.encode(prompt, return_tensors=\"pt\")\n",
    "\n",
    "    outputs = llama_3_2_1B_model.generate(\n",
    "                        prompt_ids,\n",
    "                        temperature=0.18,\n",
    "                        do_sample=True,\n",
    "                        pad_token_id=llama_3_2_1B_tokenizer.eos_token_id,\n",
    "                        max_new_tokens=1\n",
    "                    )\n",
    "    \n",
    "    # get the response tokens from the model\n",
    "    generated_tokens = outputs[-1]\n",
    "    \n",
    "    generated_response = llama_3_2_1B_tokenizer.decode(generated_tokens, skip_special_tokens=True)\n",
    "\n",
    "    # pass the generated_response to a sanitizer that determines if the response is valid\n",
    "    sentiment_resp = santize_response(generated_response[-1])\n",
    "    \n",
    "    # Responses being compared to the Ground_Truth Labels\n",
    "    # print(f\"Generated Response: {sentiment_resp}\")\n",
    "    # print(f\"Ground Truth: {gt_label}\")\n",
    "\n",
    "    llama_3_2_1B_ground_truths.append(gt_label)\n",
    "    llama_3_2_1B_sentiment_preds.append(sentiment_resp)\n",
    "\n",
    "llama_3_2_1B_ground_truths = np.asarray(llama_3_2_1B_ground_truths)\n",
    "llama_3_2_1B_sentiment_preds = np.asarray(llama_3_2_1B_sentiment_preds)\n"
   ]
  },
  {
   "cell_type": "code",
   "execution_count": 201,
   "id": "643590f8-cbb4-41e8-80b9-042b56b4e050",
   "metadata": {},
   "outputs": [
    {
     "name": "stdout",
     "output_type": "stream",
     "text": [
      "              precision    recall  f1-score   support\n",
      "\n",
      "           0       0.38      0.44      0.41       108\n",
      "           1       0.36      0.59      0.44       108\n",
      "           2       0.33      0.06      0.11       108\n",
      "\n",
      "    accuracy                           0.36       324\n",
      "   macro avg       0.36      0.36      0.32       324\n",
      "weighted avg       0.36      0.36      0.32       324\n",
      "\n"
     ]
    }
   ],
   "source": [
    "from sklearn.metrics import classification_report\n",
    "\n",
    "few_shot_in_context_llama_32_1b_results = classification_report(llama_3_2_1B_ground_truths, llama_3_2_1B_sentiment_preds, output_dict=True)\n",
    "print(classification_report(llama_3_2_1B_ground_truths, llama_3_2_1B_sentiment_preds))"
   ]
  },
  {
   "cell_type": "code",
   "execution_count": 202,
   "id": "b1be1582-2648-4fdf-9994-2a00517fcf50",
   "metadata": {},
   "outputs": [
    {
     "data": {
      "image/png": "[encoded data removed]",
      "text/plain": [
       "<Figure size 640x480 with 2 Axes>"
      ]
     },
     "metadata": {},
     "output_type": "display_data"
    }
   ],
   "source": [
    "import matplotlib.pyplot as plt\n",
    "from sklearn.metrics import confusion_matrix, ConfusionMatrixDisplay\n",
    "\n",
    "\n",
    "cm = confusion_matrix(llama_3_2_3B_ground_truths, llama_3_2_3B_sentiment_preds)\n",
    "\n",
    "disp = ConfusionMatrixDisplay(confusion_matrix=cm)\n",
    "\n",
    "disp.plot()\n",
    "plt.show()"
   ]
  },
  {
   "cell_type": "markdown",
   "id": "7e3eea30-b9c8-44fd-b5f3-42a4b8cba815",
   "metadata": {},
   "source": [
    "## Llama 3.2 3B: Few-Shot In-Context Learning"
   ]
  },
  {
   "cell_type": "code",
   "execution_count": 203,
   "id": "4cd71640-926b-4f76-b404-18350f957396",
   "metadata": {},
   "outputs": [],
   "source": [
    "import numpy as np\n",
    "\n",
    "# hold the ground_truths\n",
    "llama_3_2_3B_ground_truths = []\n",
    "# hold the sentiment_predictions\n",
    "llama_3_2_3B_sentiment_preds = []\n",
    "\n",
    "# iterate through the validation set\n",
    "for tweet, label in zip(ds_validation['text'], ds_validation['label']):\n",
    "    prompt_tweet = tweet\n",
    "    gt_label = label\n",
    "    # combine the prompt\n",
    "    prompt = generate_few_shot_prompt(prompt_tweet)\n",
    "    \n",
    "    # generate the response\n",
    "    prompt_ids = llama_3_2_3B_tokenizer.encode(prompt, return_tensors=\"pt\")\n",
    "\n",
    "    outputs = llama_3_2_3B_model.generate(\n",
    "                        prompt_ids,\n",
    "                        temperature=0.08,\n",
    "                        do_sample=True,\n",
    "                        pad_token_id=llama_3_2_3B_tokenizer.eos_token_id,\n",
    "                        max_new_tokens=1\n",
    "                    )\n",
    "    \n",
    "    # get the response tokens from the model\n",
    "    generated_tokens = outputs[-1]\n",
    "    \n",
    "    generated_response = llama_3_2_3B_tokenizer.decode(generated_tokens, skip_special_tokens=True)\n",
    "\n",
    "    # pass the generated_response to a sanitizer that determines if the response is valid\n",
    "    sentiment_resp = santize_response(generated_response[-1])\n",
    "    \n",
    "    # Responses being compared to the Ground_Truth Labels\n",
    "    # print(f\"Generated Response: {sentiment_resp}\")\n",
    "    # print(f\"Ground Truth: {gt_label}\")\n",
    "\n",
    "    llama_3_2_3B_ground_truths.append(gt_label)\n",
    "    llama_3_2_3B_sentiment_preds.append(sentiment_resp)\n",
    "\n",
    "llama_3_2_3B_ground_truths = np.asarray(llama_3_2_3B_ground_truths)\n",
    "llama_3_2_3B_sentiment_preds = np.asarray(llama_3_2_3B_sentiment_preds)\n"
   ]
  },
  {
   "cell_type": "code",
   "execution_count": 206,
   "id": "8568cd05-4256-4d1a-9c0c-fe414db2d342",
   "metadata": {},
   "outputs": [
    {
     "name": "stdout",
     "output_type": "stream",
     "text": [
      "              precision    recall  f1-score   support\n",
      "\n",
      "           0       0.85      0.10      0.18       108\n",
      "           1       0.36      0.87      0.51       108\n",
      "           2       0.53      0.24      0.33       108\n",
      "\n",
      "    accuracy                           0.40       324\n",
      "   macro avg       0.58      0.40      0.34       324\n",
      "weighted avg       0.58      0.40      0.34       324\n",
      "\n"
     ]
    }
   ],
   "source": [
    "from sklearn.metrics import classification_report\n",
    "\n",
    "few_shot_prompting_llama_32_3b_results = classification_report(llama_3_2_3B_ground_truths, llama_3_2_3B_sentiment_preds, output_dict=True)\n",
    "print(classification_report(llama_3_2_3B_ground_truths, llama_3_2_3B_sentiment_preds))"
   ]
  },
  {
   "cell_type": "code",
   "execution_count": 207,
   "id": "95727d65-c559-4847-83d4-45db83eb152a",
   "metadata": {},
   "outputs": [
    {
     "data": {
      "image/png": "[encoded data removed]",
      "text/plain": [
       "<Figure size 640x480 with 2 Axes>"
      ]
     },
     "metadata": {},
     "output_type": "display_data"
    }
   ],
   "source": [
    "import matplotlib.pyplot as plt\n",
    "from sklearn.metrics import confusion_matrix, ConfusionMatrixDisplay\n",
    "\n",
    "\n",
    "cm = confusion_matrix(llama_3_2_3B_ground_truths, llama_3_2_3B_sentiment_preds)\n",
    "\n",
    "disp = ConfusionMatrixDisplay(confusion_matrix=cm)\n",
    "\n",
    "disp.plot()\n",
    "plt.show()"
   ]
  },
  {
   "cell_type": "markdown",
   "id": "3734289f-3e4e-4546-95ea-6ebbf9d97efa",
   "metadata": {},
   "source": [
    "## Phi 3.5-mini-instruct: Few Shot In-Context Learning"
   ]
  },
  {
   "cell_type": "code",
   "execution_count": 208,
   "id": "60ef1112-80ef-4129-aa5d-3055bc005078",
   "metadata": {},
   "outputs": [],
   "source": [
    "import numpy as np\n",
    "\n",
    "# hold the ground_truths\n",
    "phi_3_5_ground_truths = []\n",
    "# hold the sentiment_predictions\n",
    "phi_3_5_sentiment_preds = []\n",
    "\n",
    "# iterate through the validation set\n",
    "for tweet, label in zip(ds_validation['text'], ds_validation['label']):\n",
    "    prompt_tweet = tweet\n",
    "    gt_label = label\n",
    "    # combine the prompt\n",
    "    prompt = generate_few_shot_prompt(prompt_tweet)\n",
    "    \n",
    "    # generate the response\n",
    "    prompt_ids = phi_3_5_tokenizer.encode(prompt, return_tensors=\"pt\")\n",
    "\n",
    "    outputs = phi_3_5_model.generate(\n",
    "                        prompt_ids,\n",
    "                        temperature=0.07,\n",
    "                        do_sample=True,\n",
    "                        pad_token_id=phi_3_5_tokenizer.eos_token_id,\n",
    "                        max_new_tokens=1\n",
    "                    )\n",
    "    \n",
    "    # get the response tokens from the model\n",
    "    generated_tokens = outputs[-1]\n",
    "    \n",
    "    generated_response = phi_3_5_tokenizer.decode(generated_tokens, skip_special_tokens=True)\n",
    "\n",
    "    # pass the generated_response to a sanitizer that determines if the response is valid\n",
    "    sentiment_resp = santize_response(generated_response[-1])\n",
    "    \n",
    "    # Responses being compared to the Ground_Truth Labels\n",
    "    # print(f\"Generated Response: {sentiment_resp}\")\n",
    "    # print(f\"Ground Truth: {gt_label}\")\n",
    "\n",
    "    phi_3_5_ground_truths.append(gt_label)\n",
    "    phi_3_5_sentiment_preds.append(sentiment_resp)\n",
    "\n",
    "phi_3_5_ground_truths = np.asarray(phi_3_5_ground_truths)\n",
    "phi_3_5_sentiment_preds = np.asarray(phi_3_5_sentiment_preds)\n"
   ]
  },
  {
   "cell_type": "code",
   "execution_count": 209,
   "id": "8bc06de7-5c05-4d90-9ef3-b8364485ab62",
   "metadata": {},
   "outputs": [
    {
     "name": "stdout",
     "output_type": "stream",
     "text": [
      "              precision    recall  f1-score   support\n",
      "\n",
      "           0       1.00      0.03      0.05       108\n",
      "           1       0.31      0.39      0.34       108\n",
      "           2       0.51      0.88      0.65       108\n",
      "\n",
      "    accuracy                           0.43       324\n",
      "   macro avg       0.61      0.43      0.35       324\n",
      "weighted avg       0.61      0.43      0.35       324\n",
      "\n"
     ]
    }
   ],
   "source": [
    "from sklearn.metrics import classification_report\n",
    "\n",
    "few_shot_prompt_phi_35_mini_results = classification_report(phi_3_5_ground_truths, phi_3_5_sentiment_preds, output_dict=True)\n",
    "print(classification_report(phi_3_5_ground_truths, phi_3_5_sentiment_preds))"
   ]
  },
  {
   "cell_type": "code",
   "execution_count": 210,
   "id": "6bdd4a35-2fe7-4efa-9356-4224e364732a",
   "metadata": {},
   "outputs": [
    {
     "data": {
      "image/png": "[encoded data removed]",
      "text/plain": [
       "<Figure size 640x480 with 2 Axes>"
      ]
     },
     "metadata": {},
     "output_type": "display_data"
    }
   ],
   "source": [
    "import matplotlib.pyplot as plt\n",
    "from sklearn.metrics import confusion_matrix, ConfusionMatrixDisplay\n",
    "\n",
    "\n",
    "cm = confusion_matrix(phi_3_5_ground_truths, phi_3_5_sentiment_preds)\n",
    "\n",
    "disp = ConfusionMatrixDisplay(confusion_matrix=cm)\n",
    "\n",
    "disp.plot()\n",
    "plt.show()"
   ]
  },
  {
   "cell_type": "markdown",
   "id": "c7cac250-151f-4984-a3e4-59891136cea8",
   "metadata": {},
   "source": [
    "## Experiment 3: Advanced Prompting Technique (Zero-Shot Inference)"
   ]
  },
  {
   "cell_type": "code",
   "execution_count": 23,
   "id": "363c01b4",
   "metadata": {},
   "outputs": [
    {
     "ename": "SyntaxError",
     "evalue": "expected 'else' after 'if' expression (2972846960.py, line 2)",
     "output_type": "error",
     "traceback": [
      "\u001b[0;36m  Cell \u001b[0;32mIn[23], line 2\u001b[0;36m\u001b[0m\n\u001b[0;31m    google_this if needed.\u001b[0m\n\u001b[0m    ^\u001b[0m\n\u001b[0;31mSyntaxError\u001b[0m\u001b[0;31m:\u001b[0m expected 'else' after 'if' expression\n"
     ]
    }
   ],
   "source": [
    "# 3 \n",
    "google_this if needed.\n",
    "\n",
    "f\"{chain_of_thought} {tweet}\"\n",
    "\n",
    "# emotion based: pull on compassion strings.\n",
    "\"\"\"I need this for my job: classify as negative, positive or neutral\"\"\""
   ]
  },
  {
   "cell_type": "markdown",
   "id": "ffcb0b80-c756-4046-ab3f-3ec46dc65a86",
   "metadata": {},
   "source": [
    "### Llama 3.2 1 B: Advanced Prompting Technique "
   ]
  },
  {
   "cell_type": "code",
   "execution_count": 225,
   "id": "e4eec890-1426-44ef-ba3c-ea71cbd9c823",
   "metadata": {},
   "outputs": [],
   "source": [
    "chain_of_thought_prompt = \"\"\"\n",
    "Read the following tweet:\n",
    "\n",
    "{}\n",
    "\n",
    "think this about the sentiment, go step by step, \n",
    "respond with a single number that is your numeric choice of either (positive (2), negative (0), neutral (1)):  \"\"\""
   ]
  },
  {
   "cell_type": "code",
   "execution_count": 226,
   "id": "b99f37b1-fe1a-479a-ae79-8fc2765a3065",
   "metadata": {},
   "outputs": [],
   "source": [
    "import numpy as np\n",
    "\n",
    "# hold the ground_truths\n",
    "llama_3_2_1B_ground_truths = []\n",
    "# hold the sentiment_predictions\n",
    "llama_3_2_1B_sentiment_preds = []\n",
    "\n",
    "# iterate through the validation set\n",
    "for tweet, label in zip(ds_validation['text'], ds_validation['label']):\n",
    "    prompt_tweet = tweet\n",
    "    gt_label = label\n",
    "    # combine the prompt\n",
    "    prompt = chain_of_thought_prompt.format(prompt_tweet)\n",
    "    \n",
    "    # generate the response\n",
    "    prompt_ids = llama_3_2_1B_tokenizer.encode(prompt, return_tensors=\"pt\")\n",
    "\n",
    "    outputs = llama_3_2_1B_model.generate(\n",
    "                        prompt_ids,\n",
    "                        do_sample=True,\n",
    "                        temperature=0.2,\n",
    "                        pad_token_id=llama_3_2_1B_tokenizer.eos_token_id,\n",
    "                        max_new_tokens=1\n",
    "                    )\n",
    "    \n",
    "    # get the response tokens from the model\n",
    "    generated_tokens = outputs[-1]\n",
    "    \n",
    "    generated_response = llama_3_2_1B_tokenizer.decode(generated_tokens, skip_special_tokens=True)\n",
    "\n",
    "    # pass the generated_response to a sanitizer that determines if the response is valid\n",
    "    # print(generated_response[-1])\n",
    "    sentiment_resp = santize_response(generated_response[-1])\n",
    "    \n",
    "    # Responses being compared to the Ground_Truth Labels\n",
    "    # print(f\"Generated Response: {sentiment_resp}\")\n",
    "    # print(f\"Ground Truth: {gt_label}\")\n",
    "\n",
    "    llama_3_2_1B_ground_truths.append(gt_label)\n",
    "    llama_3_2_1B_sentiment_preds.append(sentiment_resp)\n",
    "\n",
    "llama_3_2_1B_ground_truths = np.asarray(llama_3_2_1B_ground_truths)\n",
    "llama_3_2_1B_sentiment_preds = np.asarray(llama_3_2_1B_sentiment_preds)\n"
   ]
  },
  {
   "cell_type": "code",
   "execution_count": 227,
   "id": "2ee89b4b-bd67-4e6e-a7c0-4e45d9d033e0",
   "metadata": {},
   "outputs": [
    {
     "name": "stdout",
     "output_type": "stream",
     "text": [
      "              precision    recall  f1-score   support\n",
      "\n",
      "           0       0.33      1.00      0.50       108\n",
      "           1       0.00      0.00      0.00       108\n",
      "           2       0.00      0.00      0.00       108\n",
      "\n",
      "    accuracy                           0.33       324\n",
      "   macro avg       0.11      0.33      0.17       324\n",
      "weighted avg       0.11      0.33      0.17       324\n",
      "\n"
     ]
    },
    {
     "name": "stderr",
     "output_type": "stream",
     "text": [
      "/Users/gregwitt/Documents/Large-Language-Models/Assignments/LLM-PSU-Assignment-2/.venv/lib/python3.12/site-packages/sklearn/metrics/_classification.py:1531: UndefinedMetricWarning: Precision is ill-defined and being set to 0.0 in labels with no predicted samples. Use `zero_division` parameter to control this behavior.\n",
      "  _warn_prf(average, modifier, f\"{metric.capitalize()} is\", len(result))\n",
      "/Users/gregwitt/Documents/Large-Language-Models/Assignments/LLM-PSU-Assignment-2/.venv/lib/python3.12/site-packages/sklearn/metrics/_classification.py:1531: UndefinedMetricWarning: Precision is ill-defined and being set to 0.0 in labels with no predicted samples. Use `zero_division` parameter to control this behavior.\n",
      "  _warn_prf(average, modifier, f\"{metric.capitalize()} is\", len(result))\n",
      "/Users/gregwitt/Documents/Large-Language-Models/Assignments/LLM-PSU-Assignment-2/.venv/lib/python3.12/site-packages/sklearn/metrics/_classification.py:1531: UndefinedMetricWarning: Precision is ill-defined and being set to 0.0 in labels with no predicted samples. Use `zero_division` parameter to control this behavior.\n",
      "  _warn_prf(average, modifier, f\"{metric.capitalize()} is\", len(result))\n",
      "/Users/gregwitt/Documents/Large-Language-Models/Assignments/LLM-PSU-Assignment-2/.venv/lib/python3.12/site-packages/sklearn/metrics/_classification.py:1531: UndefinedMetricWarning: Precision is ill-defined and being set to 0.0 in labels with no predicted samples. Use `zero_division` parameter to control this behavior.\n",
      "  _warn_prf(average, modifier, f\"{metric.capitalize()} is\", len(result))\n",
      "/Users/gregwitt/Documents/Large-Language-Models/Assignments/LLM-PSU-Assignment-2/.venv/lib/python3.12/site-packages/sklearn/metrics/_classification.py:1531: UndefinedMetricWarning: Precision is ill-defined and being set to 0.0 in labels with no predicted samples. Use `zero_division` parameter to control this behavior.\n",
      "  _warn_prf(average, modifier, f\"{metric.capitalize()} is\", len(result))\n",
      "/Users/gregwitt/Documents/Large-Language-Models/Assignments/LLM-PSU-Assignment-2/.venv/lib/python3.12/site-packages/sklearn/metrics/_classification.py:1531: UndefinedMetricWarning: Precision is ill-defined and being set to 0.0 in labels with no predicted samples. Use `zero_division` parameter to control this behavior.\n",
      "  _warn_prf(average, modifier, f\"{metric.capitalize()} is\", len(result))\n"
     ]
    }
   ],
   "source": [
    "from sklearn.metrics import classification_report\n",
    "\n",
    "adv_prompting_llama_3_2_1B_results = classification_report(llama_3_2_1B_ground_truths, llama_3_2_1B_sentiment_preds, output_dict=True)\n",
    "print(classification_report(llama_3_2_1B_ground_truths, llama_3_2_1B_sentiment_preds))"
   ]
  },
  {
   "cell_type": "code",
   "execution_count": 228,
   "id": "491d2244-931e-4b64-a874-030b45db995b",
   "metadata": {},
   "outputs": [
    {
     "data": {
      "image/png": "[encoded data removed]",
      "text/plain": [
       "<Figure size 640x480 with 2 Axes>"
      ]
     },
     "metadata": {},
     "output_type": "display_data"
    }
   ],
   "source": [
    "import matplotlib.pyplot as plt\n",
    "from sklearn.metrics import confusion_matrix, ConfusionMatrixDisplay\n",
    "\n",
    "\n",
    "cm = confusion_matrix(llama_3_2_1B_ground_truths, llama_3_2_1B_sentiment_preds)\n",
    "\n",
    "disp = ConfusionMatrixDisplay(confusion_matrix=cm)\n",
    "\n",
    "disp.plot()\n",
    "plt.show()"
   ]
  }
 ],
 "metadata": {
  "kernelspec": {
   "display_name": "Python 3 (ipykernel)",
   "language": "python",
   "name": "python3"
  },
  "language_info": {
   "codemirror_mode": {
    "name": "ipython",
    "version": 3
   },
   "file_extension": ".py",
   "mimetype": "text/x-python",
   "name": "python",
   "nbconvert_exporter": "python",
   "pygments_lexer": "ipython3",
   "version": "3.12.3"
  }
 },
 "nbformat": 4,
 "nbformat_minor": 5
}
