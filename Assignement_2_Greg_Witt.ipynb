{
 "cells": [
  {
   "cell_type": "markdown",
   "id": "0b133c7d-94cd-4d88-ad3b-ec756ed6c369",
   "metadata": {},
   "source": [
    "# Assignment 2: Large Language Models for Text Classification"
   ]
  },
  {
   "cell_type": "markdown",
   "id": "8088e649-206e-4c4f-a802-ef860fc873f1",
   "metadata": {},
   "source": [
    "### CS 410/510 Large Language Models Fall 2024"
   ]
  },
  {
   "cell_type": "markdown",
   "id": "995529cd-a516-45b5-ab5c-a76d668871d8",
   "metadata": {},
   "source": [
    "#### Greg Witt"
   ]
  },
  {
   "cell_type": "markdown",
   "id": "d2b870bd-7be3-4447-b531-77dbaafec5f1",
   "metadata": {},
   "source": [
    "## Load Dataset"
   ]
  },
  {
   "cell_type": "markdown",
   "id": "b2eaa395-0356-4d84-bd75-7c632ede4141",
   "metadata": {},
   "source": [
    "**Install Dependencies**"
   ]
  },
  {
   "cell_type": "code",
   "execution_count": null,
   "id": "101775ae-ee6b-419e-ba63-291fe04b99c3",
   "metadata": {},
   "outputs": [],
   "source": [
    "!pip install datasets"
   ]
  },
  {
   "cell_type": "code",
   "execution_count": 24,
   "id": "6dc5a88f-c340-4bb8-a21c-d0c68f57ac8c",
   "metadata": {},
   "outputs": [
    {
     "name": "stdout",
     "output_type": "stream",
     "text": [
      "tweet_sentiment_multilingual training dataset: \n",
      "    -----------------------------------------\n",
      "        Dataset({\n",
      "    features: ['text', 'label'],\n",
      "    num_rows: 1839\n",
      "}) \n",
      "    \n",
      "\n",
      "    Random Tweet:\n",
      "    omg jonghyun is following his hyung by giving me 2nd hand embarrassment feels. XD what are you cnblue dorks. \n",
      "\n",
      "    Label: \n",
      "    0\n",
      "\n"
     ]
    }
   ],
   "source": [
    "from datasets import load_dataset\n",
    "import random\n",
    "\n",
    "# load the training set of tweets\n",
    "ds_train = load_dataset(\"cardiffnlp/tweet_sentiment_multilingual\", \"english\", split=\"train\")\n",
    "# the dataset labels {0 : negative, 1: neutral, 2: positive }\n",
    "print(f\"\"\"tweet_sentiment_multilingual training dataset: \n",
    "    -----------------------------------------\n",
    "        {ds_train} \n",
    "    \"\"\")\n",
    "random_tweet_index = random.randint(0,1839)\n",
    "print(f\"\"\"\n",
    "    Random Tweet:\n",
    "    {ds_train['text'][random_tweet_index]}\n",
    "\n",
    "    Label: \n",
    "    {ds_train['label'][random_tweet_index] }\n",
    "\"\"\")\n"
   ]
  },
  {
   "cell_type": "code",
   "execution_count": 7,
   "id": "50bf010e",
   "metadata": {},
   "outputs": [
    {
     "name": "stdout",
     "output_type": "stream",
     "text": [
      "tweet_sentiment_multilingual validation set: \n",
      "    -----------------------------------------\n",
      "        Dataset({\n",
      "    features: ['text', 'label'],\n",
      "    num_rows: 324\n",
      "})\n",
      "    \n",
      "\n",
      "    Random Tweet:\n",
      "    Harper's Worst Offense against Refugees may be Climate Record as rising temperatures add to chaos in the Middle East \n",
      "\n",
      "    Label: \n",
      "    1\n",
      "\n"
     ]
    }
   ],
   "source": [
    "\n",
    "# load the training set of tweets\n",
    "ds_validation = load_dataset(\"cardiffnlp/tweet_sentiment_multilingual\", \"english\", split=\"validation\")\n",
    "# the dataset labels {0 : negative, 1: neutral, 2: positive }\n",
    "print(f\"\"\"tweet_sentiment_multilingual validation set: \n",
    "    -----------------------------------------\n",
    "        {ds_validation}\n",
    "    \"\"\")\n",
    "random_tweet_index = random.randint(0,324)\n",
    "print(f\"\"\"\n",
    "    Random Tweet:\n",
    "    {ds_validation['text'][7]}\n",
    "\n",
    "    Label: \n",
    "    {ds_validation['label'][7] }\n",
    "\"\"\")\n"
   ]
  },
  {
   "cell_type": "markdown",
   "id": "d65fbc96",
   "metadata": {},
   "source": [
    "## Load the Models"
   ]
  },
  {
   "cell_type": "markdown",
   "id": "3310abc7",
   "metadata": {},
   "source": [
    "**Load Dependencies**"
   ]
  },
  {
   "cell_type": "code",
   "execution_count": null,
   "id": "69fc74e2",
   "metadata": {},
   "outputs": [],
   "source": [
    "\n",
    "!pip install transformers torch"
   ]
  },
  {
   "cell_type": "markdown",
   "id": "1ebbb03f",
   "metadata": {},
   "source": [
    "#### [Lama 3.2 1B](https://huggingface.co/meta-llama/Llama-3.2-1B) \n",
    "\n"
   ]
  },
  {
   "cell_type": "code",
   "execution_count": 21,
   "id": "c0c87e2a",
   "metadata": {},
   "outputs": [],
   "source": [
    "from transformers import AutoModelForCausalLM, AutoTokenizer\n",
    "import torch\n",
    "\n",
    "llama_3_2_1B = \"meta-llama/Llama-3.2-1B\"\n",
    "\n",
    "llama_3_2_1B_tokenizer = AutoTokenizer.from_pretrained(llama_3_2_1B)\n",
    "\n",
    "llama_3_2_1B_model = AutoModelForCausalLM.from_pretrained(llama_3_2_1B)"
   ]
  },
  {
   "cell_type": "code",
   "execution_count": 14,
   "id": "973c79d6",
   "metadata": {},
   "outputs": [],
   "source": [
    "prompt_text = f\"\"\"{tweet} \\n Sentiment (positive(2), negative(0), neutral(1)):\"\"\""
   ]
  },
  {
   "cell_type": "code",
   "execution_count": 18,
   "id": "b02fd010",
   "metadata": {},
   "outputs": [],
   "source": [
    "# tokenizer assigns the probability \n",
    "\"Text: I hate it! \\nSentiment (positive, negative, neutral):\"\n",
    "\n",
    "prompt_approach_two = f\"\"\"{tweet} Sentiment: \"\"\""
   ]
  },
  {
   "cell_type": "code",
   "execution_count": 19,
   "id": "c076a312",
   "metadata": {},
   "outputs": [
    {
     "ename": "NameError",
     "evalue": "name 'tokenizer' is not defined",
     "output_type": "error",
     "traceback": [
      "\u001b[0;31m---------------------------------------------------------------------------\u001b[0m",
      "\u001b[0;31mNameError\u001b[0m                                 Traceback (most recent call last)",
      "Cell \u001b[0;32mIn[19], line 5\u001b[0m\n\u001b[1;32m      2\u001b[0m text \u001b[38;5;241m=\u001b[39m \u001b[38;5;124m\"\u001b[39m\u001b[38;5;124mYour text to classify here.\u001b[39m\u001b[38;5;124m\"\u001b[39m\n\u001b[1;32m      4\u001b[0m \u001b[38;5;66;03m# Tokenize the text\u001b[39;00m\n\u001b[0;32m----> 5\u001b[0m inputs \u001b[38;5;241m=\u001b[39m \u001b[43mtokenizer\u001b[49m(text, return_tensors\u001b[38;5;241m=\u001b[39m\u001b[38;5;124m\"\u001b[39m\u001b[38;5;124mpt\u001b[39m\u001b[38;5;124m\"\u001b[39m)\n\u001b[1;32m      7\u001b[0m \u001b[38;5;66;03m# Get model predictions\u001b[39;00m\n\u001b[1;32m      8\u001b[0m outputs \u001b[38;5;241m=\u001b[39m model(\u001b[38;5;241m*\u001b[39m\u001b[38;5;241m*\u001b[39minputs)\n",
      "\u001b[0;31mNameError\u001b[0m: name 'tokenizer' is not defined"
     ]
    }
   ],
   "source": [
    "# Text to classify\n",
    "text = \"Your text to classify here.\"\n",
    "\n",
    "# Tokenize the text\n",
    "inputs = tokenizer(text, return_tensors=\"pt\")\n",
    "\n",
    "# Get model predictions\n",
    "outputs = model(**inputs)\n",
    "logits = outputs.logits\n",
    "\n",
    "# Determine the predicted class\n",
    "predicted_class = torch.argmax(logits, dim=1).item()\n"
   ]
  },
  {
   "cell_type": "code",
   "execution_count": null,
   "id": "debb8de8",
   "metadata": {},
   "outputs": [],
   "source": [
    "with torch.no_grad():\n",
    "    outputs = model(**inputs, labels=inputs[\"input_ids\"])\n",
    "    log_probs = torch.nn.functional.log_softmax(outputs.logits, dim=-1)"
   ]
  },
  {
   "cell_type": "code",
   "execution_count": 20,
   "id": "ae1260ea",
   "metadata": {},
   "outputs": [
    {
     "ename": "NameError",
     "evalue": "name 'Experiment' is not defined",
     "output_type": "error",
     "traceback": [
      "\u001b[0;31m---------------------------------------------------------------------------\u001b[0m",
      "\u001b[0;31mNameError\u001b[0m                                 Traceback (most recent call last)",
      "Cell \u001b[0;32mIn[20], line 1\u001b[0m\n\u001b[0;32m----> 1\u001b[0m \u001b[43mExperiment\u001b[49m \u001b[38;5;66;03m#2 \u001b[39;00m\n",
      "\u001b[0;31mNameError\u001b[0m: name 'Experiment' is not defined"
     ]
    }
   ],
   "source": [
    "Experiment #2 \n",
    "\n",
    "1 prompt  2 positive , 2 negative, 2 neutral k = 2 {tweet} : Sentiment {?} =>"
   ]
  },
  {
   "cell_type": "code",
   "execution_count": 23,
   "id": "363c01b4",
   "metadata": {},
   "outputs": [
    {
     "ename": "SyntaxError",
     "evalue": "expected 'else' after 'if' expression (2972846960.py, line 2)",
     "output_type": "error",
     "traceback": [
      "\u001b[0;36m  Cell \u001b[0;32mIn[23], line 2\u001b[0;36m\u001b[0m\n\u001b[0;31m    google_this if needed.\u001b[0m\n\u001b[0m    ^\u001b[0m\n\u001b[0;31mSyntaxError\u001b[0m\u001b[0;31m:\u001b[0m expected 'else' after 'if' expression\n"
     ]
    }
   ],
   "source": [
    "# 3 \n",
    "google_this if needed.\n",
    "chain_of_thought = \"think about this step by step this sound positive, negative, neurtal?\\n\"\n",
    "f\"{chain_of_thought} {tweet}\"\n",
    "\n",
    "# emotion based: pull on compassion strings.\n",
    "\"I need this for my job: classify as negative, positive or neutral\""
   ]
  },
  {
   "cell_type": "code",
   "execution_count": null,
   "id": "244de673",
   "metadata": {},
   "outputs": [],
   "source": []
  },
  {
   "cell_type": "code",
   "execution_count": null,
   "id": "107ab645",
   "metadata": {},
   "outputs": [],
   "source": []
  }
 ],
 "metadata": {
  "kernelspec": {
   "display_name": ".venv",
   "language": "python",
   "name": "python3"
  },
  "language_info": {
   "codemirror_mode": {
    "name": "ipython",
    "version": 3
   },
   "file_extension": ".py",
   "mimetype": "text/x-python",
   "name": "python",
   "nbconvert_exporter": "python",
   "pygments_lexer": "ipython3",
   "version": "3.12.3"
  }
 },
 "nbformat": 4,
 "nbformat_minor": 5
}
